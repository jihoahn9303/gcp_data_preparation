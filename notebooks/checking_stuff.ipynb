{
 "cells": [
  {
   "cell_type": "code",
   "execution_count": 1,
   "id": "71a27479-f3a7-4ec2-8fe7-9d7a8cffa3f1",
   "metadata": {},
   "outputs": [
    {
     "name": "stdout",
     "output_type": "stream",
     "text": [
      "/app\n"
     ]
    },
    {
     "name": "stderr",
     "output_type": "stream",
     "text": [
      "/home/jihoahn9303/venv/lib/python3.10/site-packages/IPython/core/magics/osm.py:417: UserWarning: using dhist requires you to install the `pickleshare` library.\n",
      "  self.shell.db['dhist'] = compress_dhist(dhist)[-100:]\n"
     ]
    }
   ],
   "source": [
    "cd /app"
   ]
  },
  {
   "cell_type": "code",
   "execution_count": 6,
   "id": "2e912a43-34be-428b-9e0b-20463952ac74",
   "metadata": {},
   "outputs": [],
   "source": [
    "from jeffrey.data_processing.dataset_cleaners import SpellCorrectionDatasetCleaner\n",
    "from jeffrey.utils.utils import SpellCorrectionModel"
   ]
  },
  {
   "cell_type": "code",
   "execution_count": 8,
   "id": "46a2ca49-6f18-4718-986c-bd0e9b2ba96c",
   "metadata": {},
   "outputs": [],
   "source": [
    "spell_correction_model = SpellCorrectionModel()\n",
    "cleaner = SpellCorrectionDatasetCleaner(spell_correction_model)"
   ]
  },
  {
   "cell_type": "code",
   "execution_count": 7,
   "id": "4c53cebb-5ef3-40f6-b29e-9c4d3ab583c4",
   "metadata": {},
   "outputs": [],
   "source": [
    "text = \"Can yu readthis messa ge despite thehorible sppelingmsitakes\""
   ]
  },
  {
   "cell_type": "code",
   "execution_count": 14,
   "id": "22600f36-86a0-4029-9221-7162e402b3ac",
   "metadata": {},
   "outputs": [
    {
     "data": {
      "text/plain": [
       "'can you read this message despite the horrible spelling mistakes'"
      ]
     },
     "execution_count": 14,
     "metadata": {},
     "output_type": "execute_result"
    }
   ],
   "source": [
    "cleaner.clean_text(text)"
   ]
  },
  {
   "cell_type": "code",
   "execution_count": null,
   "id": "18f2e460-40de-4a25-95ff-5afc5639a06a",
   "metadata": {},
   "outputs": [],
   "source": []
  }
 ],
 "metadata": {
  "kernelspec": {
   "display_name": "Python 3 (ipykernel)",
   "language": "python",
   "name": "python3"
  },
  "language_info": {
   "codemirror_mode": {
    "name": "ipython",
    "version": 3
   },
   "file_extension": ".py",
   "mimetype": "text/x-python",
   "name": "python",
   "nbconvert_exporter": "python",
   "pygments_lexer": "ipython3",
   "version": "3.10.14"
  }
 },
 "nbformat": 4,
 "nbformat_minor": 5
}
